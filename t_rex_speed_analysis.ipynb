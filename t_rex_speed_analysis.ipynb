{
 "cells": [
  {
   "cell_type": "code",
   "execution_count": 37,
   "metadata": {},
   "outputs": [],
   "source": [
    "import pandas as pd\n",
    "import numpy as np\n",
    "import matplotlib.pyplot as plt"
   ]
  },
  {
   "cell_type": "code",
   "execution_count": 38,
   "metadata": {},
   "outputs": [],
   "source": [
    "# Load all dimensionless data\n",
    "dimensionless_camels = pd.read_csv('data/Non-dimensionalized_data_camels.csv')\n",
    "dimensionless_dogs = pd.read_csv('data/Non-dimensionalized_data_dogs.csv')\n",
    "dimensionless_elephants = pd.read_csv('data/Non-dimensionalized_data_elephants.csv')\n",
    "dimensionless_humans = pd.read_csv('data/Non-dimensionalized_data_humans.csv')\n",
    "dimensionless_ostriches = pd.read_csv('data/Non-dimensionalized_data_ostriches.csv')\n",
    "dimensionless_rhinos = pd.read_csv('data/Non-dimensionalized_data_rhinos.csv')\n",
    "dimensionless_sheep = pd.read_csv('data/Non-dimensionalized_data_sheep.csv')"
   ]
  },
  {
   "cell_type": "code",
   "execution_count": 39,
   "metadata": {},
   "outputs": [],
   "source": [
    "# Load all dimension data\n",
    "dimension_camels = pd.read_csv('data/Dimensionalized_data_camels.csv')\n",
    "dimension_dogs = pd.read_csv('data/Dimensionalized_data_dogs.csv')\n",
    "dimension_humans = pd.read_csv('data/Dimensionalized_data_humans.csv')"
   ]
  },
  {
   "cell_type": "code",
   "execution_count": 40,
   "metadata": {},
   "outputs": [],
   "source": [
    "# Update column names\n",
    "dimensionless_camels.columns = ['Dimensionless speed', 'Relative stride length']\n",
    "dimensionless_dogs.columns = ['Dimensionless speed', 'Relative stride length']\n",
    "dimensionless_elephants.columns = ['Dimensionless speed', 'Relative stride length']\n",
    "dimensionless_humans.columns = ['Dimensionless speed', 'Relative stride length']\n",
    "dimensionless_ostriches.columns = ['Dimensionless speed', 'Relative stride length']\n",
    "dimensionless_rhinos.columns = ['Dimensionless speed', 'Relative stride length']\n",
    "dimensionless_sheep.columns = ['Dimensionless speed', 'Relative stride length']\n",
    "\n",
    "# Update column names\n",
    "dimension_dogs.columns = ['Speed, m/s', 'Stride length, m']\n",
    "dimension_camels.columns = ['Speed, m/s', 'Stride length, m']\n",
    "dimension_humans.columns = ['Speed, m/s', 'Stride length, m']"
   ]
  },
  {
   "cell_type": "code",
   "execution_count": 43,
   "metadata": {},
   "outputs": [
    {
     "name": "stdout",
     "output_type": "stream",
     "text": [
      "Index(['Speed, m/s', 'Stride length, m'], dtype='object')\n",
      "Index(['Dimensionless speed', 'Relative stride length'], dtype='object')\n"
     ]
    }
   ],
   "source": [
    "# Info on column names\n",
    "print(dimension_humans.columns)\n",
    "print(dimensionless_camels.columns)"
   ]
  },
  {
   "cell_type": "code",
   "execution_count": null,
   "metadata": {},
   "outputs": [],
   "source": []
  }
 ],
 "metadata": {
  "kernelspec": {
   "display_name": "Python 3.9.12 ('base')",
   "language": "python",
   "name": "python3"
  },
  "language_info": {
   "codemirror_mode": {
    "name": "ipython",
    "version": 3
   },
   "file_extension": ".py",
   "mimetype": "text/x-python",
   "name": "python",
   "nbconvert_exporter": "python",
   "pygments_lexer": "ipython3",
   "version": "3.9.12"
  },
  "orig_nbformat": 4,
  "vscode": {
   "interpreter": {
    "hash": "e1a068e2796038083fa1cc314aadcccdb37037656e5182611097862070cdd14f"
   }
  }
 },
 "nbformat": 4,
 "nbformat_minor": 2
}
